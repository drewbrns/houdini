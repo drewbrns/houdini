{
 "cells": [
  {
   "cell_type": "code",
   "execution_count": 10,
   "metadata": {},
   "outputs": [],
   "source": [
    "import os, sys"
   ]
  },
  {
   "cell_type": "code",
   "execution_count": 11,
   "metadata": {},
   "outputs": [],
   "source": [
    "pi_module_path = os.path.join('/app/')\n",
    "sys.path.append(pi_module_path)"
   ]
  },
  {
   "cell_type": "code",
   "execution_count": 12,
   "metadata": {},
   "outputs": [],
   "source": [
    "from houdini.pi.lib.feature_selection import BasicExtractor"
   ]
  },
  {
   "cell_type": "code",
   "execution_count": 13,
   "metadata": {},
   "outputs": [],
   "source": [
    "data = [\n",
    "  {\"text\": \"I need silence, and to be alone and to go out, and to save one hour…\", \"class\": \"non-pi\"},\n",
    "  {\"text\": \"I need more tiaras. I haven't bought a new one in over a year and that's a shame. Send an Amazon gift card so I can fix this today! goddessjoules@gmail.com\", \"class\": \"pi\"},  \n",
    "  {\"text\": \"Hi, recently I was wondering if it pays to buy gtx 1070 or wait for new this year's nvidia graphics cards\", \"class\": \"pi\"},\n",
    "  {\"text\": \"I have been planning for years to immigrate to Canada, the heaven of justice! and now it’s over a year/years that most of #OutlandIranianApplicants are stuck in the assessment limbo of @CitImmCanada. @AhmedDHussen @JustinTrudeau @RalphGoodale @ICCongress\", \"class\": \"non-pi\"},\n",
    "  {\"text\": \"Can you please recommend a good place to have lunch in Bangalore?\", \"class\": \"pi\"},\n",
    "  {\"text\": \"I want to buy a phone\", \"class\": \"pi\"},\n",
    "  {\"text\": \"What are some good places to have lunch in Accra\", \"class\": \"pi\"},    \n",
    "  {\"text\": \"I want there to be some sanity in Accra\", \"class\": \"non-pi\"},        \n",
    "]"
   ]
  },
  {
   "cell_type": "code",
   "execution_count": 14,
   "metadata": {
    "scrolled": false
   },
   "outputs": [],
   "source": [
    "be = BasicExtractor(data)"
   ]
  },
  {
   "cell_type": "code",
   "execution_count": 9,
   "metadata": {},
   "outputs": [
    {
     "data": {
      "text/html": [
       "<div>\n",
       "<style scoped>\n",
       "    .dataframe tbody tr th:only-of-type {\n",
       "        vertical-align: middle;\n",
       "    }\n",
       "\n",
       "    .dataframe tbody tr th {\n",
       "        vertical-align: top;\n",
       "    }\n",
       "\n",
       "    .dataframe thead th {\n",
       "        text-align: right;\n",
       "    }\n",
       "</style>\n",
       "<table border=\"1\" class=\"dataframe\">\n",
       "  <thead>\n",
       "    <tr style=\"text-align: right;\">\n",
       "      <th></th>\n",
       "      <th>WPA</th>\n",
       "      <th>WNPA</th>\n",
       "      <th>SENTIMENT</th>\n",
       "      <th>CPO</th>\n",
       "      <th>CPNO</th>\n",
       "      <th>ADO</th>\n",
       "      <th>ORG</th>\n",
       "      <th>LOC</th>\n",
       "      <th>CLASS</th>\n",
       "    </tr>\n",
       "  </thead>\n",
       "  <tbody>\n",
       "    <tr>\n",
       "      <th>0</th>\n",
       "      <td>1.0</td>\n",
       "      <td>0.733700</td>\n",
       "      <td>0.000000</td>\n",
       "      <td>0</td>\n",
       "      <td>0</td>\n",
       "      <td>0</td>\n",
       "      <td>0</td>\n",
       "      <td>0</td>\n",
       "      <td>0</td>\n",
       "    </tr>\n",
       "    <tr>\n",
       "      <th>1</th>\n",
       "      <td>1.0</td>\n",
       "      <td>0.423067</td>\n",
       "      <td>0.335227</td>\n",
       "      <td>0</td>\n",
       "      <td>0</td>\n",
       "      <td>0</td>\n",
       "      <td>0</td>\n",
       "      <td>0</td>\n",
       "      <td>1</td>\n",
       "    </tr>\n",
       "    <tr>\n",
       "      <th>2</th>\n",
       "      <td>1.0</td>\n",
       "      <td>0.318851</td>\n",
       "      <td>0.068182</td>\n",
       "      <td>0</td>\n",
       "      <td>0</td>\n",
       "      <td>0</td>\n",
       "      <td>0</td>\n",
       "      <td>0</td>\n",
       "      <td>1</td>\n",
       "    </tr>\n",
       "    <tr>\n",
       "      <th>3</th>\n",
       "      <td>1.0</td>\n",
       "      <td>0.000000</td>\n",
       "      <td>0.500000</td>\n",
       "      <td>0</td>\n",
       "      <td>0</td>\n",
       "      <td>0</td>\n",
       "      <td>0</td>\n",
       "      <td>0</td>\n",
       "      <td>0</td>\n",
       "    </tr>\n",
       "    <tr>\n",
       "      <th>4</th>\n",
       "      <td>1.0</td>\n",
       "      <td>0.000000</td>\n",
       "      <td>0.700000</td>\n",
       "      <td>0</td>\n",
       "      <td>0</td>\n",
       "      <td>0</td>\n",
       "      <td>0</td>\n",
       "      <td>1</td>\n",
       "      <td>1</td>\n",
       "    </tr>\n",
       "    <tr>\n",
       "      <th>5</th>\n",
       "      <td>1.0</td>\n",
       "      <td>0.000000</td>\n",
       "      <td>0.000000</td>\n",
       "      <td>0</td>\n",
       "      <td>0</td>\n",
       "      <td>0</td>\n",
       "      <td>0</td>\n",
       "      <td>0</td>\n",
       "      <td>1</td>\n",
       "    </tr>\n",
       "    <tr>\n",
       "      <th>6</th>\n",
       "      <td>1.0</td>\n",
       "      <td>0.000000</td>\n",
       "      <td>0.700000</td>\n",
       "      <td>0</td>\n",
       "      <td>0</td>\n",
       "      <td>0</td>\n",
       "      <td>0</td>\n",
       "      <td>1</td>\n",
       "      <td>1</td>\n",
       "    </tr>\n",
       "    <tr>\n",
       "      <th>7</th>\n",
       "      <td>1.0</td>\n",
       "      <td>0.000000</td>\n",
       "      <td>0.000000</td>\n",
       "      <td>0</td>\n",
       "      <td>0</td>\n",
       "      <td>0</td>\n",
       "      <td>0</td>\n",
       "      <td>1</td>\n",
       "      <td>0</td>\n",
       "    </tr>\n",
       "  </tbody>\n",
       "</table>\n",
       "</div>"
      ],
      "text/plain": [
       "   WPA      WNPA  SENTIMENT  CPO  CPNO  ADO  ORG  LOC  CLASS\n",
       "0  1.0  0.733700   0.000000    0     0    0    0    0      0\n",
       "1  1.0  0.423067   0.335227    0     0    0    0    0      1\n",
       "2  1.0  0.318851   0.068182    0     0    0    0    0      1\n",
       "3  1.0  0.000000   0.500000    0     0    0    0    0      0\n",
       "4  1.0  0.000000   0.700000    0     0    0    0    1      1\n",
       "5  1.0  0.000000   0.000000    0     0    0    0    0      1\n",
       "6  1.0  0.000000   0.700000    0     0    0    0    1      1\n",
       "7  1.0  0.000000   0.000000    0     0    0    0    1      0"
      ]
     },
     "execution_count": 9,
     "metadata": {},
     "output_type": "execute_result"
    }
   ],
   "source": [
    "be.get_features()"
   ]
  },
  {
   "cell_type": "code",
   "execution_count": null,
   "metadata": {},
   "outputs": [],
   "source": []
  }
 ],
 "metadata": {
  "kernelspec": {
   "display_name": "Python 3",
   "language": "python",
   "name": "python3"
  },
  "language_info": {
   "codemirror_mode": {
    "name": "ipython",
    "version": 3
   },
   "file_extension": ".py",
   "mimetype": "text/x-python",
   "name": "python",
   "nbconvert_exporter": "python",
   "pygments_lexer": "ipython3",
   "version": "3.6.2"
  }
 },
 "nbformat": 4,
 "nbformat_minor": 2
}
