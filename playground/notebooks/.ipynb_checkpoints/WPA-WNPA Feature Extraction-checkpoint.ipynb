{
 "cells": [
  {
   "cell_type": "code",
   "execution_count": 1,
   "metadata": {},
   "outputs": [],
   "source": [
    "import nltk\n",
    "import textblob\n",
    "from textblob import TextBlob"
   ]
  },
  {
   "cell_type": "code",
   "execution_count": 2,
   "metadata": {},
   "outputs": [],
   "source": [
    "doc_1 = \"I need silence, and to be alone and to go out, and to save one hour… https://t.co/yfiVWqq38g\""
   ]
  },
  {
   "cell_type": "code",
   "execution_count": 3,
   "metadata": {},
   "outputs": [],
   "source": [
    "doc_2 = \"I need more tiaras. I haven't bought a new one in over a year and that's a shame. Send an Amazon gift card so I can fix this today! goddessjoules@gmail.com https://t.co/MoC4pMwhUo\""
   ]
  },
  {
   "cell_type": "code",
   "execution_count": 4,
   "metadata": {},
   "outputs": [],
   "source": [
    "doc_3 = \"Hi, recently I was wondering if it pays to buy gtx 1070 or wait for new this year's nvidia graphics cards https://t.co/vycRJV2bVH\""
   ]
  },
  {
   "cell_type": "code",
   "execution_count": 5,
   "metadata": {},
   "outputs": [],
   "source": [
    "doc_4 = \"I have been planning for years to immigrate to Canada, the heaven of justice! and now it’s over a year/years that most of #OutlandIranianApplicants are stuck in the assessment limbo of @CitImmCanada. @AhmedDHussen @JustinTrudeau @RalphGoodale @ICCongress\""
   ]
  },
  {
   "cell_type": "code",
   "execution_count": 6,
   "metadata": {},
   "outputs": [],
   "source": [
    "b_1 = TextBlob(doc_1)"
   ]
  },
  {
   "cell_type": "code",
   "execution_count": 9,
   "metadata": {},
   "outputs": [
    {
     "data": {
      "text/plain": [
       "[('I', 'PRP'),\n",
       " ('need', 'VBP'),\n",
       " ('silence', 'NN'),\n",
       " ('and', 'CC'),\n",
       " ('to', 'TO'),\n",
       " ('be', 'VB'),\n",
       " ('alone', 'RB'),\n",
       " ('and', 'CC'),\n",
       " ('to', 'TO'),\n",
       " ('go', 'VB'),\n",
       " ('out', 'RP'),\n",
       " ('and', 'CC'),\n",
       " ('to', 'TO'),\n",
       " ('save', 'VB'),\n",
       " ('one', 'CD'),\n",
       " ('hour…', 'NN'),\n",
       " ('https', 'NN'),\n",
       " ('//t.co/yfiVWqq38g', 'NN')]"
      ]
     },
     "execution_count": 9,
     "metadata": {},
     "output_type": "execute_result"
    }
   ],
   "source": [
    "b_1.tags"
   ]
  },
  {
   "cell_type": "code",
   "execution_count": null,
   "metadata": {},
   "outputs": [],
   "source": []
  }
 ],
 "metadata": {
  "kernelspec": {
   "display_name": "Python 3",
   "language": "python",
   "name": "python3"
  },
  "language_info": {
   "codemirror_mode": {
    "name": "ipython",
    "version": 3
   },
   "file_extension": ".py",
   "mimetype": "text/x-python",
   "name": "python",
   "nbconvert_exporter": "python",
   "pygments_lexer": "ipython3",
   "version": "3.6.2"
  }
 },
 "nbformat": 4,
 "nbformat_minor": 2
}
